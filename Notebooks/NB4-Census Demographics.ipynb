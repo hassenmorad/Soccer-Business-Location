{
 "cells": [
  {
   "cell_type": "markdown",
   "metadata": {},
   "source": [
    "### Assigning US Census Demographics for Each City"
   ]
  },
  {
   "cell_type": "markdown",
   "metadata": {},
   "source": [
    "---"
   ]
  },
  {
   "cell_type": "code",
   "execution_count": 1,
   "metadata": {},
   "outputs": [],
   "source": [
    "import pandas as pd\n",
    "import numpy as np\n",
    "import array"
   ]
  },
  {
   "cell_type": "code",
   "execution_count": 2,
   "metadata": {},
   "outputs": [],
   "source": [
    "city_pumas = pd.read_csv('city_pumas.csv')"
   ]
  },
  {
   "cell_type": "code",
   "execution_count": 3,
   "metadata": {},
   "outputs": [
    {
     "data": {
      "text/plain": [
       "113"
      ]
     },
     "execution_count": 3,
     "metadata": {},
     "output_type": "execute_result"
    }
   ],
   "source": [
    "len(city_pumas)"
   ]
  },
  {
   "cell_type": "code",
   "execution_count": 4,
   "metadata": {},
   "outputs": [
    {
     "data": {
      "text/html": [
       "<div>\n",
       "<style scoped>\n",
       "    .dataframe tbody tr th:only-of-type {\n",
       "        vertical-align: middle;\n",
       "    }\n",
       "\n",
       "    .dataframe tbody tr th {\n",
       "        vertical-align: top;\n",
       "    }\n",
       "\n",
       "    .dataframe thead th {\n",
       "        text-align: right;\n",
       "    }\n",
       "</style>\n",
       "<table border=\"1\" class=\"dataframe\">\n",
       "  <thead>\n",
       "    <tr style=\"text-align: right;\">\n",
       "      <th></th>\n",
       "      <th>City</th>\n",
       "      <th>PUMAs</th>\n",
       "    </tr>\n",
       "  </thead>\n",
       "  <tbody>\n",
       "    <tr>\n",
       "      <th>0</th>\n",
       "      <td>Aliso Viejo</td>\n",
       "      <td>[5903]</td>\n",
       "    </tr>\n",
       "  </tbody>\n",
       "</table>\n",
       "</div>"
      ],
      "text/plain": [
       "          City   PUMAs\n",
       "0  Aliso Viejo  [5903]"
      ]
     },
     "execution_count": 4,
     "metadata": {},
     "output_type": "execute_result"
    }
   ],
   "source": [
    "city_pumas.head(1)"
   ]
  },
  {
   "cell_type": "code",
   "execution_count": 5,
   "metadata": {},
   "outputs": [
    {
     "data": {
      "text/plain": [
       "str"
      ]
     },
     "execution_count": 5,
     "metadata": {},
     "output_type": "execute_result"
    }
   ],
   "source": [
    "type(city_pumas['PUMAs'][0])"
   ]
  },
  {
   "cell_type": "code",
   "execution_count": 6,
   "metadata": {},
   "outputs": [],
   "source": [
    "# Converting lists in str format back to lists containing ints\n",
    "city_pumas['PUMAs'] = city_pumas['PUMAs'].apply(lambda x:x[1:-1].split(',')).apply(lambda x:[int(s) for s in x])"
   ]
  },
  {
   "cell_type": "code",
   "execution_count": 7,
   "metadata": {},
   "outputs": [
    {
     "data": {
      "text/plain": [
       "list"
      ]
     },
     "execution_count": 7,
     "metadata": {},
     "output_type": "execute_result"
    }
   ],
   "source": [
    "type(city_pumas['PUMAs'][0])"
   ]
  },
  {
   "cell_type": "markdown",
   "metadata": {},
   "source": [
    "---"
   ]
  },
  {
   "cell_type": "markdown",
   "metadata": {},
   "source": [
    "### Cleaning Census Demographic Data"
   ]
  },
  {
   "cell_type": "code",
   "execution_count": 8,
   "metadata": {},
   "outputs": [],
   "source": [
    "# This Census data was extracted from the following source, by manually choosing the variables of interest: https://usa.ipums.org/usa-action/variables/group\n",
    "census_df = pd.read_csv('usa_00145.csv')"
   ]
  },
  {
   "cell_type": "code",
   "execution_count": 9,
   "metadata": {},
   "outputs": [
    {
     "data": {
      "text/html": [
       "<div>\n",
       "<style scoped>\n",
       "    .dataframe tbody tr th:only-of-type {\n",
       "        vertical-align: middle;\n",
       "    }\n",
       "\n",
       "    .dataframe tbody tr th {\n",
       "        vertical-align: top;\n",
       "    }\n",
       "\n",
       "    .dataframe thead th {\n",
       "        text-align: right;\n",
       "    }\n",
       "</style>\n",
       "<table border=\"1\" class=\"dataframe\">\n",
       "  <thead>\n",
       "    <tr style=\"text-align: right;\">\n",
       "      <th></th>\n",
       "      <th>YEAR</th>\n",
       "      <th>STATEFIP</th>\n",
       "      <th>PUMA</th>\n",
       "      <th>PERWT</th>\n",
       "      <th>SEX</th>\n",
       "      <th>AGE</th>\n",
       "      <th>RACE</th>\n",
       "      <th>RACED</th>\n",
       "      <th>HISPAN</th>\n",
       "      <th>HISPAND</th>\n",
       "      <th>INCTOT</th>\n",
       "    </tr>\n",
       "  </thead>\n",
       "  <tbody>\n",
       "    <tr>\n",
       "      <th>0</th>\n",
       "      <td>2017</td>\n",
       "      <td>1</td>\n",
       "      <td>2500</td>\n",
       "      <td>206</td>\n",
       "      <td>1</td>\n",
       "      <td>73</td>\n",
       "      <td>2</td>\n",
       "      <td>200</td>\n",
       "      <td>0</td>\n",
       "      <td>0</td>\n",
       "      <td>10000</td>\n",
       "    </tr>\n",
       "  </tbody>\n",
       "</table>\n",
       "</div>"
      ],
      "text/plain": [
       "   YEAR  STATEFIP  PUMA  PERWT  SEX  AGE  RACE  RACED  HISPAN  HISPAND  INCTOT\n",
       "0  2017         1  2500    206    1   73     2    200       0        0   10000"
      ]
     },
     "execution_count": 9,
     "metadata": {},
     "output_type": "execute_result"
    }
   ],
   "source": [
    "census_df.head(1)"
   ]
  },
  {
   "cell_type": "code",
   "execution_count": 10,
   "metadata": {},
   "outputs": [],
   "source": [
    "# County indicated by first two digits of PUMA\n",
    "census_df['COUNTY'] = census_df.PUMA.astype(str).apply(lambda x:x[:2]).astype(int)"
   ]
  },
  {
   "cell_type": "code",
   "execution_count": 11,
   "metadata": {},
   "outputs": [
    {
     "data": {
      "text/html": [
       "<div>\n",
       "<style scoped>\n",
       "    .dataframe tbody tr th:only-of-type {\n",
       "        vertical-align: middle;\n",
       "    }\n",
       "\n",
       "    .dataframe tbody tr th {\n",
       "        vertical-align: top;\n",
       "    }\n",
       "\n",
       "    .dataframe thead th {\n",
       "        text-align: right;\n",
       "    }\n",
       "</style>\n",
       "<table border=\"1\" class=\"dataframe\">\n",
       "  <thead>\n",
       "    <tr style=\"text-align: right;\">\n",
       "      <th></th>\n",
       "      <th>YEAR</th>\n",
       "      <th>STATEFIP</th>\n",
       "      <th>PUMA</th>\n",
       "      <th>PERWT</th>\n",
       "      <th>SEX</th>\n",
       "      <th>AGE</th>\n",
       "      <th>RACE</th>\n",
       "      <th>RACED</th>\n",
       "      <th>HISPAN</th>\n",
       "      <th>HISPAND</th>\n",
       "      <th>INCTOT</th>\n",
       "      <th>COUNTY</th>\n",
       "    </tr>\n",
       "  </thead>\n",
       "  <tbody>\n",
       "    <tr>\n",
       "      <th>0</th>\n",
       "      <td>2017</td>\n",
       "      <td>1</td>\n",
       "      <td>2500</td>\n",
       "      <td>206</td>\n",
       "      <td>1</td>\n",
       "      <td>73</td>\n",
       "      <td>2</td>\n",
       "      <td>200</td>\n",
       "      <td>0</td>\n",
       "      <td>0</td>\n",
       "      <td>10000</td>\n",
       "      <td>25</td>\n",
       "    </tr>\n",
       "  </tbody>\n",
       "</table>\n",
       "</div>"
      ],
      "text/plain": [
       "   YEAR  STATEFIP  PUMA  PERWT  SEX  AGE  RACE  RACED  HISPAN  HISPAND  \\\n",
       "0  2017         1  2500    206    1   73     2    200       0        0   \n",
       "\n",
       "   INCTOT  COUNTY  \n",
       "0   10000      25  "
      ]
     },
     "execution_count": 11,
     "metadata": {},
     "output_type": "execute_result"
    }
   ],
   "source": [
    "census_df.head(1)"
   ]
  },
  {
   "cell_type": "code",
   "execution_count": 12,
   "metadata": {},
   "outputs": [],
   "source": [
    "# Keeping only records of individuals residing in LA & Orange counties\n",
    "census_df = census_df[(census_df.COUNTY.isin([37, 59])) & (census_df.STATEFIP == 6)]"
   ]
  },
  {
   "cell_type": "code",
   "execution_count": 13,
   "metadata": {},
   "outputs": [],
   "source": [
    "census_df = census_df.drop(['RACED', 'HISPAND'], axis='columns')"
   ]
  },
  {
   "cell_type": "code",
   "execution_count": 14,
   "metadata": {},
   "outputs": [
    {
     "data": {
      "text/html": [
       "<div>\n",
       "<style scoped>\n",
       "    .dataframe tbody tr th:only-of-type {\n",
       "        vertical-align: middle;\n",
       "    }\n",
       "\n",
       "    .dataframe tbody tr th {\n",
       "        vertical-align: top;\n",
       "    }\n",
       "\n",
       "    .dataframe thead th {\n",
       "        text-align: right;\n",
       "    }\n",
       "</style>\n",
       "<table border=\"1\" class=\"dataframe\">\n",
       "  <thead>\n",
       "    <tr style=\"text-align: right;\">\n",
       "      <th></th>\n",
       "      <th>YEAR</th>\n",
       "      <th>STATEFIP</th>\n",
       "      <th>PUMA</th>\n",
       "      <th>PERWT</th>\n",
       "      <th>SEX</th>\n",
       "      <th>AGE</th>\n",
       "      <th>RACE</th>\n",
       "      <th>HISPAN</th>\n",
       "      <th>INCTOT</th>\n",
       "      <th>COUNTY</th>\n",
       "    </tr>\n",
       "  </thead>\n",
       "  <tbody>\n",
       "    <tr>\n",
       "      <th>153288</th>\n",
       "      <td>2017</td>\n",
       "      <td>6</td>\n",
       "      <td>3727</td>\n",
       "      <td>94</td>\n",
       "      <td>1</td>\n",
       "      <td>47</td>\n",
       "      <td>1</td>\n",
       "      <td>0</td>\n",
       "      <td>87400</td>\n",
       "      <td>37</td>\n",
       "    </tr>\n",
       "  </tbody>\n",
       "</table>\n",
       "</div>"
      ],
      "text/plain": [
       "        YEAR  STATEFIP  PUMA  PERWT  SEX  AGE  RACE  HISPAN  INCTOT  COUNTY\n",
       "153288  2017         6  3727     94    1   47     1       0   87400      37"
      ]
     },
     "execution_count": 14,
     "metadata": {},
     "output_type": "execute_result"
    }
   ],
   "source": [
    "census_df.head(1)"
   ]
  },
  {
   "cell_type": "markdown",
   "metadata": {},
   "source": [
    "---"
   ]
  },
  {
   "cell_type": "markdown",
   "metadata": {},
   "source": [
    "Cleaning Race Columns:"
   ]
  },
  {
   "cell_type": "code",
   "execution_count": 15,
   "metadata": {},
   "outputs": [],
   "source": [
    "# Replacing numeric code w/ corresponding race; source: https://usa.ipums.org/usa-action/variables/RACE#codes_section\n",
    "race = {\n",
    "1:\t'White',\n",
    "2:\t'Black/African American/Negro',\n",
    "3:\t'American Indian or Alaska Native',\n",
    "4:\t'Chinese',\n",
    "5:\t'Japanese',\n",
    "6:\t'Other Asian or Pacific Islander',\n",
    "7:\t'Other race, nec',\n",
    "8:\t'Two major races',\n",
    "9:\t'Three or more major races'}\n",
    "\n",
    "census_df.RACE = census_df.RACE.map(race)"
   ]
  },
  {
   "cell_type": "code",
   "execution_count": 16,
   "metadata": {},
   "outputs": [],
   "source": [
    "# Source: https://usa.ipums.org/usa-action/variables/HISPAN#codes_section\n",
    "hispanic = {\n",
    "0:\t'Not Hispanic',\n",
    "1:\t'Mexican',\n",
    "2:\t'Puerto Rican',\n",
    "3:\t'Cuban',\n",
    "4:\t'Other',\n",
    "9:\t'Not Reported'}\n",
    "\n",
    "census_df.HISPAN = census_df.HISPAN.map(hispanic)"
   ]
  },
  {
   "cell_type": "code",
   "execution_count": 17,
   "metadata": {},
   "outputs": [
    {
     "data": {
      "text/plain": [
       "White                               0.547109\n",
       "Other race, nec                     0.172237\n",
       "Other Asian or Pacific Islander     0.115565\n",
       "Black/African American/Negro        0.056043\n",
       "Chinese                             0.049994\n",
       "Two major races                     0.035295\n",
       "Japanese                            0.010825\n",
       "American Indian or Alaska Native    0.007080\n",
       "Three or more major races           0.005852\n",
       "Name: RACE, dtype: float64"
      ]
     },
     "execution_count": 17,
     "metadata": {},
     "output_type": "execute_result"
    }
   ],
   "source": [
    "census_df.RACE.value_counts(normalize=True)"
   ]
  },
  {
   "cell_type": "code",
   "execution_count": 18,
   "metadata": {},
   "outputs": [
    {
     "data": {
      "text/plain": [
       "Not Hispanic    0.576840\n",
       "Mexican         0.328540\n",
       "Other           0.085379\n",
       "Puerto Rican    0.005041\n",
       "Cuban           0.004200\n",
       "Name: HISPAN, dtype: float64"
      ]
     },
     "execution_count": 18,
     "metadata": {},
     "output_type": "execute_result"
    }
   ],
   "source": [
    "census_df.HISPAN.value_counts(normalize=True)"
   ]
  },
  {
   "cell_type": "code",
   "execution_count": 19,
   "metadata": {},
   "outputs": [],
   "source": [
    "# Assigning 'Other' to American Indian due to small count; merging Chinese and Japanese with Asian; merging two/three + races and assigning 'Mixed'\n",
    "races = {'American Indian or Alaska Native': 'Other', 'Black/African American/Negro': 'African American',\n",
    "       'Other race, nec':'Other', 'White':'White', 'Other Asian or Pacific Islander':'Asian',\n",
    "       'Two major races':'Mixed', 'Chinese':'Asian', 'Japanese':'Asian',\n",
    "       'Three or more major races':'Mixed'}\n",
    "\n",
    "census_df.RACE = census_df.RACE.map(races)"
   ]
  },
  {
   "cell_type": "code",
   "execution_count": 20,
   "metadata": {},
   "outputs": [
    {
     "data": {
      "text/plain": [
       "White               0.547109\n",
       "Other               0.179317\n",
       "Asian               0.176384\n",
       "African American    0.056043\n",
       "Mixed               0.041147\n",
       "Name: RACE, dtype: float64"
      ]
     },
     "execution_count": 20,
     "metadata": {},
     "output_type": "execute_result"
    }
   ],
   "source": [
    "census_df.RACE.value_counts(normalize=True)"
   ]
  },
  {
   "cell_type": "code",
   "execution_count": 21,
   "metadata": {},
   "outputs": [
    {
     "data": {
      "text/plain": [
       "Not Hispanic    0.576840\n",
       "Mexican         0.328540\n",
       "Other           0.085379\n",
       "Puerto Rican    0.005041\n",
       "Cuban           0.004200\n",
       "Name: HISPAN, dtype: float64"
      ]
     },
     "execution_count": 21,
     "metadata": {},
     "output_type": "execute_result"
    }
   ],
   "source": [
    "census_df.HISPAN.value_counts(normalize=True)"
   ]
  },
  {
   "cell_type": "code",
   "execution_count": 22,
   "metadata": {},
   "outputs": [],
   "source": [
    "# Simplifying values to 'Hispanic' or 'Not Hispanic'\n",
    "census_df.loc[census_df.HISPAN != 'Not Hispanic', 'HISPAN'] = 'Hispanic'"
   ]
  },
  {
   "cell_type": "code",
   "execution_count": 23,
   "metadata": {},
   "outputs": [
    {
     "data": {
      "text/plain": [
       "Not Hispanic    0.57684\n",
       "Hispanic        0.42316\n",
       "Name: HISPAN, dtype: float64"
      ]
     },
     "execution_count": 23,
     "metadata": {},
     "output_type": "execute_result"
    }
   ],
   "source": [
    "census_df.HISPAN.value_counts(normalize=True)"
   ]
  },
  {
   "cell_type": "code",
   "execution_count": 24,
   "metadata": {},
   "outputs": [],
   "source": [
    "# Reflecting 'Hispanic' in RACE column (which excludes Hispanic race- presumably categorized as 'white' or 'other')\n",
    "census_df.loc[census_df.HISPAN != 'Not Hispanic', 'RACE'] = 'Hispanic'"
   ]
  },
  {
   "cell_type": "code",
   "execution_count": 25,
   "metadata": {},
   "outputs": [
    {
     "data": {
      "text/plain": [
       "Hispanic            0.423160\n",
       "White               0.319731\n",
       "Asian               0.173617\n",
       "African American    0.053102\n",
       "Mixed               0.025819\n",
       "Other               0.004571\n",
       "Name: RACE, dtype: float64"
      ]
     },
     "execution_count": 25,
     "metadata": {},
     "output_type": "execute_result"
    }
   ],
   "source": [
    "census_df.RACE.value_counts(normalize=True)"
   ]
  },
  {
   "cell_type": "code",
   "execution_count": 26,
   "metadata": {},
   "outputs": [],
   "source": [
    "census_df = census_df.drop('HISPAN', axis='columns')"
   ]
  },
  {
   "cell_type": "code",
   "execution_count": 27,
   "metadata": {},
   "outputs": [
    {
     "data": {
      "text/html": [
       "<div>\n",
       "<style scoped>\n",
       "    .dataframe tbody tr th:only-of-type {\n",
       "        vertical-align: middle;\n",
       "    }\n",
       "\n",
       "    .dataframe tbody tr th {\n",
       "        vertical-align: top;\n",
       "    }\n",
       "\n",
       "    .dataframe thead th {\n",
       "        text-align: right;\n",
       "    }\n",
       "</style>\n",
       "<table border=\"1\" class=\"dataframe\">\n",
       "  <thead>\n",
       "    <tr style=\"text-align: right;\">\n",
       "      <th></th>\n",
       "      <th>YEAR</th>\n",
       "      <th>STATEFIP</th>\n",
       "      <th>PUMA</th>\n",
       "      <th>PERWT</th>\n",
       "      <th>SEX</th>\n",
       "      <th>AGE</th>\n",
       "      <th>RACE</th>\n",
       "      <th>INCTOT</th>\n",
       "      <th>COUNTY</th>\n",
       "    </tr>\n",
       "  </thead>\n",
       "  <tbody>\n",
       "    <tr>\n",
       "      <th>153288</th>\n",
       "      <td>2017</td>\n",
       "      <td>6</td>\n",
       "      <td>3727</td>\n",
       "      <td>94</td>\n",
       "      <td>1</td>\n",
       "      <td>47</td>\n",
       "      <td>White</td>\n",
       "      <td>87400</td>\n",
       "      <td>37</td>\n",
       "    </tr>\n",
       "    <tr>\n",
       "      <th>153289</th>\n",
       "      <td>2017</td>\n",
       "      <td>6</td>\n",
       "      <td>3727</td>\n",
       "      <td>123</td>\n",
       "      <td>2</td>\n",
       "      <td>41</td>\n",
       "      <td>White</td>\n",
       "      <td>70000</td>\n",
       "      <td>37</td>\n",
       "    </tr>\n",
       "    <tr>\n",
       "      <th>153305</th>\n",
       "      <td>2017</td>\n",
       "      <td>6</td>\n",
       "      <td>3732</td>\n",
       "      <td>61</td>\n",
       "      <td>2</td>\n",
       "      <td>41</td>\n",
       "      <td>Hispanic</td>\n",
       "      <td>40000</td>\n",
       "      <td>37</td>\n",
       "    </tr>\n",
       "  </tbody>\n",
       "</table>\n",
       "</div>"
      ],
      "text/plain": [
       "        YEAR  STATEFIP  PUMA  PERWT  SEX  AGE      RACE  INCTOT  COUNTY\n",
       "153288  2017         6  3727     94    1   47     White   87400      37\n",
       "153289  2017         6  3727    123    2   41     White   70000      37\n",
       "153305  2017         6  3732     61    2   41  Hispanic   40000      37"
      ]
     },
     "execution_count": 27,
     "metadata": {},
     "output_type": "execute_result"
    }
   ],
   "source": [
    "census_df.head(3)"
   ]
  },
  {
   "cell_type": "markdown",
   "metadata": {},
   "source": [
    "---"
   ]
  },
  {
   "cell_type": "markdown",
   "metadata": {},
   "source": [
    "#### Extracting Census Data for Each City"
   ]
  },
  {
   "cell_type": "code",
   "execution_count": 28,
   "metadata": {},
   "outputs": [
    {
     "data": {
      "text/html": [
       "<div>\n",
       "<style scoped>\n",
       "    .dataframe tbody tr th:only-of-type {\n",
       "        vertical-align: middle;\n",
       "    }\n",
       "\n",
       "    .dataframe tbody tr th {\n",
       "        vertical-align: top;\n",
       "    }\n",
       "\n",
       "    .dataframe thead th {\n",
       "        text-align: right;\n",
       "    }\n",
       "</style>\n",
       "<table border=\"1\" class=\"dataframe\">\n",
       "  <thead>\n",
       "    <tr style=\"text-align: right;\">\n",
       "      <th></th>\n",
       "      <th>YEAR</th>\n",
       "      <th>STATEFIP</th>\n",
       "      <th>PUMA</th>\n",
       "      <th>PERWT</th>\n",
       "      <th>SEX</th>\n",
       "      <th>AGE</th>\n",
       "      <th>RACE</th>\n",
       "      <th>INCTOT</th>\n",
       "      <th>COUNTY</th>\n",
       "    </tr>\n",
       "  </thead>\n",
       "  <tbody>\n",
       "    <tr>\n",
       "      <th>153288</th>\n",
       "      <td>2017</td>\n",
       "      <td>6</td>\n",
       "      <td>3727</td>\n",
       "      <td>94</td>\n",
       "      <td>1</td>\n",
       "      <td>47</td>\n",
       "      <td>White</td>\n",
       "      <td>87400</td>\n",
       "      <td>37</td>\n",
       "    </tr>\n",
       "  </tbody>\n",
       "</table>\n",
       "</div>"
      ],
      "text/plain": [
       "        YEAR  STATEFIP  PUMA  PERWT  SEX  AGE   RACE  INCTOT  COUNTY\n",
       "153288  2017         6  3727     94    1   47  White   87400      37"
      ]
     },
     "execution_count": 28,
     "metadata": {},
     "output_type": "execute_result"
    }
   ],
   "source": [
    "census_df.head(1)"
   ]
  },
  {
   "cell_type": "code",
   "execution_count": 29,
   "metadata": {},
   "outputs": [
    {
     "data": {
      "text/html": [
       "<div>\n",
       "<style scoped>\n",
       "    .dataframe tbody tr th:only-of-type {\n",
       "        vertical-align: middle;\n",
       "    }\n",
       "\n",
       "    .dataframe tbody tr th {\n",
       "        vertical-align: top;\n",
       "    }\n",
       "\n",
       "    .dataframe thead th {\n",
       "        text-align: right;\n",
       "    }\n",
       "</style>\n",
       "<table border=\"1\" class=\"dataframe\">\n",
       "  <thead>\n",
       "    <tr style=\"text-align: right;\">\n",
       "      <th></th>\n",
       "      <th>City</th>\n",
       "      <th>PUMAs</th>\n",
       "    </tr>\n",
       "  </thead>\n",
       "  <tbody>\n",
       "    <tr>\n",
       "      <th>0</th>\n",
       "      <td>Aliso Viejo</td>\n",
       "      <td>[5903]</td>\n",
       "    </tr>\n",
       "  </tbody>\n",
       "</table>\n",
       "</div>"
      ],
      "text/plain": [
       "          City   PUMAs\n",
       "0  Aliso Viejo  [5903]"
      ]
     },
     "execution_count": 29,
     "metadata": {},
     "output_type": "execute_result"
    }
   ],
   "source": [
    "city_pumas.head(1)"
   ]
  },
  {
   "cell_type": "code",
   "execution_count": 30,
   "metadata": {},
   "outputs": [],
   "source": [
    "cities = []\n",
    "pumas_called = []\n",
    "all_incomes = array.array('i')\n",
    "med_ages = []\n",
    "med_incomes = []\n",
    "male_pers = []\n",
    "hispanic_pers = []\n",
    "incomes_dict = {}\n",
    "\n",
    "for city in city_pumas.City:\n",
    "    pumas = city_pumas.PUMAs[city_pumas.City == city].iloc[0]\n",
    "    df = census_df[census_df.PUMA.isin(pumas)]\n",
    "    ages = array.array('i')\n",
    "    incomes = array.array('i')\n",
    "    \n",
    "    for i, row in df.iterrows():\n",
    "        ages.extend(np.full(row.PERWT, row.AGE))  # Description of PERWT: https://usa.ipums.org/usa-action/variables/PERWT#description_section\n",
    "        if row.INCTOT != 9999999:  # Code indicating n/a\n",
    "            incomes.extend(np.full(row.PERWT, row.INCTOT))\n",
    "        \n",
    "    # Collecting all incomes w/o overlap (since some cities share the same PUMA)\n",
    "    for puma in pumas:\n",
    "        if puma in pumas_called:\n",
    "            continue\n",
    "        else:  # Individual PUMA incomes\n",
    "            for i, row in census_df[census_df.PUMA == puma].iterrows():\n",
    "                if row.INCTOT != 9999999:  \n",
    "                    all_incomes.extend(np.full(row.PERWT, row.INCTOT))\n",
    "                    # Cumulative census incomes\n",
    "                    if row.INCTOT in incomes_dict:\n",
    "                        incomes_dict[row.INCTOT] += row.PERWT\n",
    "                    else:\n",
    "                        incomes_dict[row.INCTOT] = row.PERWT\n",
    "            pumas_called.append(puma)\n",
    "            \n",
    "    cities.append(city)\n",
    "    med_ages.append(np.median(ages))\n",
    "    med_incomes.append(np.median(incomes))\n",
    "    male_pers.append(round(df.PERWT[df.SEX == 1].sum() / df.PERWT.sum(), 2)) \n",
    "    hispanic_pers.append(round(df.PERWT[df.RACE == 'Hispanic'].sum() / df.PERWT.sum(), 2))"
   ]
  },
  {
   "cell_type": "code",
   "execution_count": 127,
   "metadata": {},
   "outputs": [
    {
     "data": {
      "text/plain": [
       "113"
      ]
     },
     "execution_count": 127,
     "metadata": {},
     "output_type": "execute_result"
    }
   ],
   "source": [
    "len(cities)"
   ]
  },
  {
   "cell_type": "markdown",
   "metadata": {},
   "source": [
    "---"
   ]
  },
  {
   "cell_type": "markdown",
   "metadata": {},
   "source": [
    "Comparing Median Incomes:"
   ]
  },
  {
   "cell_type": "code",
   "execution_count": 31,
   "metadata": {},
   "outputs": [
    {
     "data": {
      "text/plain": [
       "21800.0"
      ]
     },
     "execution_count": 31,
     "metadata": {},
     "output_type": "execute_result"
    }
   ],
   "source": [
    "np.median(all_incomes)  # All recorded incomes in the entire df, weighted by PERWT (which gives the most accurate figure)"
   ]
  },
  {
   "cell_type": "code",
   "execution_count": 32,
   "metadata": {},
   "outputs": [
    {
     "data": {
      "text/plain": [
       "24000.0"
      ]
     },
     "execution_count": 32,
     "metadata": {},
     "output_type": "execute_result"
    }
   ],
   "source": [
    "np.median(med_incomes)  # Median of all city median incomes"
   ]
  },
  {
   "cell_type": "markdown",
   "metadata": {},
   "source": [
    "*Conclusion: the median in med_incomes is close enough to all_incomes to rely on"
   ]
  },
  {
   "cell_type": "markdown",
   "metadata": {},
   "source": [
    "---"
   ]
  },
  {
   "cell_type": "code",
   "execution_count": 33,
   "metadata": {},
   "outputs": [],
   "source": [
    "demographics_df = pd.DataFrame({'City':cities, 'Median_Age':med_ages, 'Median_Income':med_incomes, 'Normalized_Income':(med_incomes-min(med_incomes)) / (max(med_incomes) - min(med_incomes)), \n",
    "                             'Male_Percent':male_pers, 'Hispanic_Percent':hispanic_pers})"
   ]
  },
  {
   "cell_type": "code",
   "execution_count": 34,
   "metadata": {},
   "outputs": [],
   "source": [
    "demographics_df.Normalized_Income = demographics_df.Normalized_Income.apply(lambda x:round(x, 2))"
   ]
  },
  {
   "cell_type": "code",
   "execution_count": 35,
   "metadata": {},
   "outputs": [
    {
     "data": {
      "text/html": [
       "<div>\n",
       "<style scoped>\n",
       "    .dataframe tbody tr th:only-of-type {\n",
       "        vertical-align: middle;\n",
       "    }\n",
       "\n",
       "    .dataframe tbody tr th {\n",
       "        vertical-align: top;\n",
       "    }\n",
       "\n",
       "    .dataframe thead th {\n",
       "        text-align: right;\n",
       "    }\n",
       "</style>\n",
       "<table border=\"1\" class=\"dataframe\">\n",
       "  <thead>\n",
       "    <tr style=\"text-align: right;\">\n",
       "      <th></th>\n",
       "      <th>City</th>\n",
       "      <th>Median_Age</th>\n",
       "      <th>Median_Income</th>\n",
       "      <th>Normalized_Income</th>\n",
       "      <th>Male_Percent</th>\n",
       "      <th>Hispanic_Percent</th>\n",
       "    </tr>\n",
       "  </thead>\n",
       "  <tbody>\n",
       "    <tr>\n",
       "      <th>0</th>\n",
       "      <td>Aliso Viejo</td>\n",
       "      <td>46.0</td>\n",
       "      <td>40000.0</td>\n",
       "      <td>0.76</td>\n",
       "      <td>0.47</td>\n",
       "      <td>0.14</td>\n",
       "    </tr>\n",
       "    <tr>\n",
       "      <th>1</th>\n",
       "      <td>Anaheim</td>\n",
       "      <td>34.0</td>\n",
       "      <td>20000.0</td>\n",
       "      <td>0.22</td>\n",
       "      <td>0.51</td>\n",
       "      <td>0.55</td>\n",
       "    </tr>\n",
       "    <tr>\n",
       "      <th>2</th>\n",
       "      <td>Brea</td>\n",
       "      <td>39.0</td>\n",
       "      <td>31800.0</td>\n",
       "      <td>0.54</td>\n",
       "      <td>0.50</td>\n",
       "      <td>0.34</td>\n",
       "    </tr>\n",
       "    <tr>\n",
       "      <th>3</th>\n",
       "      <td>Buena Park</td>\n",
       "      <td>41.0</td>\n",
       "      <td>24000.0</td>\n",
       "      <td>0.33</td>\n",
       "      <td>0.49</td>\n",
       "      <td>0.28</td>\n",
       "    </tr>\n",
       "    <tr>\n",
       "      <th>4</th>\n",
       "      <td>Costa Mesa</td>\n",
       "      <td>36.0</td>\n",
       "      <td>30000.0</td>\n",
       "      <td>0.49</td>\n",
       "      <td>0.50</td>\n",
       "      <td>0.28</td>\n",
       "    </tr>\n",
       "  </tbody>\n",
       "</table>\n",
       "</div>"
      ],
      "text/plain": [
       "          City  Median_Age  Median_Income  Normalized_Income  Male_Percent  \\\n",
       "0  Aliso Viejo        46.0        40000.0               0.76          0.47   \n",
       "1      Anaheim        34.0        20000.0               0.22          0.51   \n",
       "2         Brea        39.0        31800.0               0.54          0.50   \n",
       "3   Buena Park        41.0        24000.0               0.33          0.49   \n",
       "4   Costa Mesa        36.0        30000.0               0.49          0.50   \n",
       "\n",
       "   Hispanic_Percent  \n",
       "0              0.14  \n",
       "1              0.55  \n",
       "2              0.34  \n",
       "3              0.28  \n",
       "4              0.28  "
      ]
     },
     "execution_count": 35,
     "metadata": {},
     "output_type": "execute_result"
    }
   ],
   "source": [
    "demographics_df.head()"
   ]
  },
  {
   "cell_type": "code",
   "execution_count": 36,
   "metadata": {},
   "outputs": [
    {
     "data": {
      "text/plain": [
       "113"
      ]
     },
     "execution_count": 36,
     "metadata": {},
     "output_type": "execute_result"
    }
   ],
   "source": [
    "len(demographics_df)"
   ]
  },
  {
   "cell_type": "code",
   "execution_count": 37,
   "metadata": {},
   "outputs": [],
   "source": [
    "demographics_df.to_csv('demographics_LA_OC.csv', index=False)"
   ]
  },
  {
   "cell_type": "markdown",
   "metadata": {},
   "source": [
    "---"
   ]
  }
 ],
 "metadata": {
  "kernelspec": {
   "display_name": "Python 3",
   "language": "python",
   "name": "python3"
  },
  "language_info": {
   "codemirror_mode": {
    "name": "ipython",
    "version": 3
   },
   "file_extension": ".py",
   "mimetype": "text/x-python",
   "name": "python",
   "nbconvert_exporter": "python",
   "pygments_lexer": "ipython3",
   "version": "3.7.3"
  }
 },
 "nbformat": 4,
 "nbformat_minor": 4
}
