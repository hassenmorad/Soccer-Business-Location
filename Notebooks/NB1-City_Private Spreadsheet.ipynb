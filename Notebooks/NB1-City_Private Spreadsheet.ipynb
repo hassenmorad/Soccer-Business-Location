{
 "cells": [
  {
   "cell_type": "markdown",
   "metadata": {},
   "source": [
    "### Cleaning So. Cal Soccer Activity & Rent Data"
   ]
  },
  {
   "cell_type": "markdown",
   "metadata": {},
   "source": [
    "---"
   ]
  },
  {
   "cell_type": "markdown",
   "metadata": {},
   "source": [
    "Summary of Data Collection (before cleaning):\n",
    "- Created spreadsheets of active soccer leagues (city-run and private) and building rent data in LA & Orange counties"
   ]
  },
  {
   "cell_type": "markdown",
   "metadata": {},
   "source": [
    "---"
   ]
  },
  {
   "cell_type": "code",
   "execution_count": 1,
   "metadata": {},
   "outputs": [],
   "source": [
    "import pandas as pd\n",
    "import geopandas as gpd\n",
    "import googlemaps\n",
    "from shapely.geometry import Point\n",
    "import numpy as np\n",
    "import array"
   ]
  },
  {
   "cell_type": "markdown",
   "metadata": {},
   "source": [
    "---"
   ]
  },
  {
   "cell_type": "markdown",
   "metadata": {},
   "source": [
    "#### Cleaning Spreadsheet Data:"
   ]
  },
  {
   "cell_type": "code",
   "execution_count": 2,
   "metadata": {},
   "outputs": [],
   "source": [
    "oc = pd.read_csv('OC_Soccer_Fields1.csv')"
   ]
  },
  {
   "cell_type": "code",
   "execution_count": 3,
   "metadata": {},
   "outputs": [],
   "source": [
    "la = pd.read_csv('LA_Soccer_Fields1.csv')"
   ]
  },
  {
   "cell_type": "code",
   "execution_count": 4,
   "metadata": {},
   "outputs": [
    {
     "data": {
      "text/html": [
       "<div>\n",
       "<style scoped>\n",
       "    .dataframe tbody tr th:only-of-type {\n",
       "        vertical-align: middle;\n",
       "    }\n",
       "\n",
       "    .dataframe tbody tr th {\n",
       "        vertical-align: top;\n",
       "    }\n",
       "\n",
       "    .dataframe thead th {\n",
       "        text-align: right;\n",
       "    }\n",
       "</style>\n",
       "<table border=\"1\" class=\"dataframe\">\n",
       "  <thead>\n",
       "    <tr style=\"text-align: right;\">\n",
       "      <th></th>\n",
       "      <th>City</th>\n",
       "      <th>City_Address</th>\n",
       "      <th>Meetup</th>\n",
       "      <th>Private League1</th>\n",
       "      <th>Private League2</th>\n",
       "      <th>Avg Rent - Office</th>\n",
       "      <th>Avg Rent - Industrial</th>\n",
       "      <th>Avg Rent - Retail</th>\n",
       "    </tr>\n",
       "  </thead>\n",
       "  <tbody>\n",
       "    <tr>\n",
       "      <th>0</th>\n",
       "      <td>Aliso Viejo</td>\n",
       "      <td>No</td>\n",
       "      <td>NaN</td>\n",
       "      <td>Elite Soccer League; 26895 Aliso Creek Rd b249...</td>\n",
       "      <td>NaN</td>\n",
       "      <td>NaN</td>\n",
       "      <td>NaN</td>\n",
       "      <td>NaN</td>\n",
       "    </tr>\n",
       "  </tbody>\n",
       "</table>\n",
       "</div>"
      ],
      "text/plain": [
       "          City City_Address Meetup  \\\n",
       "0  Aliso Viejo           No    NaN   \n",
       "\n",
       "                                     Private League1 Private League2  \\\n",
       "0  Elite Soccer League; 26895 Aliso Creek Rd b249...             NaN   \n",
       "\n",
       "  Avg Rent - Office Avg Rent - Industrial Avg Rent - Retail  \n",
       "0               NaN                   NaN               NaN  "
      ]
     },
     "execution_count": 4,
     "metadata": {},
     "output_type": "execute_result"
    }
   ],
   "source": [
    "oc.head(1)"
   ]
  },
  {
   "cell_type": "code",
   "execution_count": 5,
   "metadata": {},
   "outputs": [
    {
     "data": {
      "text/html": [
       "<div>\n",
       "<style scoped>\n",
       "    .dataframe tbody tr th:only-of-type {\n",
       "        vertical-align: middle;\n",
       "    }\n",
       "\n",
       "    .dataframe tbody tr th {\n",
       "        vertical-align: top;\n",
       "    }\n",
       "\n",
       "    .dataframe thead th {\n",
       "        text-align: right;\n",
       "    }\n",
       "</style>\n",
       "<table border=\"1\" class=\"dataframe\">\n",
       "  <thead>\n",
       "    <tr style=\"text-align: right;\">\n",
       "      <th></th>\n",
       "      <th>City</th>\n",
       "      <th>City_Address</th>\n",
       "      <th>Meetup</th>\n",
       "      <th>Private League1</th>\n",
       "      <th>Private League2</th>\n",
       "      <th>Avg Rent - Office</th>\n",
       "      <th>Avg Rent - Industrial</th>\n",
       "      <th>Avg Rent - Retail</th>\n",
       "    </tr>\n",
       "  </thead>\n",
       "  <tbody>\n",
       "    <tr>\n",
       "      <th>0</th>\n",
       "      <td>Agoura Hills</td>\n",
       "      <td>No</td>\n",
       "      <td>NaN</td>\n",
       "      <td>No</td>\n",
       "      <td>NaN</td>\n",
       "      <td>$23.23</td>\n",
       "      <td>NaN</td>\n",
       "      <td>NaN</td>\n",
       "    </tr>\n",
       "  </tbody>\n",
       "</table>\n",
       "</div>"
      ],
      "text/plain": [
       "           City City_Address Meetup Private League1 Private League2  \\\n",
       "0  Agoura Hills           No    NaN              No             NaN   \n",
       "\n",
       "  Avg Rent - Office Avg Rent - Industrial Avg Rent - Retail  \n",
       "0           $23.23                    NaN               NaN  "
      ]
     },
     "execution_count": 5,
     "metadata": {},
     "output_type": "execute_result"
    }
   ],
   "source": [
    "la.head(1)"
   ]
  },
  {
   "cell_type": "code",
   "execution_count": 6,
   "metadata": {},
   "outputs": [],
   "source": [
    "leagues_df = pd.concat([oc, la], sort=False).reset_index(drop=True)"
   ]
  },
  {
   "cell_type": "code",
   "execution_count": 7,
   "metadata": {},
   "outputs": [],
   "source": [
    "# Creating separate columns for name & address\n",
    "leagues_df[['Private1', 'Private1_Address']] = leagues_df['Private League1'].str.split('; ', expand=True)\n",
    "leagues_df[['Private2', 'Private2_Address']] = leagues_df['Private League2'].str.split('; ', expand=True)"
   ]
  },
  {
   "cell_type": "code",
   "execution_count": 8,
   "metadata": {},
   "outputs": [],
   "source": [
    "leagues_df = leagues_df.drop(['Private League1', 'Private League2'], axis='columns').fillna('No')"
   ]
  },
  {
   "cell_type": "code",
   "execution_count": 9,
   "metadata": {},
   "outputs": [],
   "source": [
    "# Changing the names of these cities due to different naming in data used in later notebooks\n",
    "leagues_df.loc[leagues_df['City'].str.contains('Industry'), 'City'] = 'Industry'\n",
    "leagues_df.loc[leagues_df['City'].str.contains('Palos Verdes'), 'City'] = 'Palos Verdes'\n",
    "leagues_df.loc[leagues_df['City'].str.contains('La Cañada Flintridge'), 'City'] = 'La Canada Flintridge'"
   ]
  },
  {
   "cell_type": "code",
   "execution_count": 10,
   "metadata": {},
   "outputs": [
    {
     "data": {
      "text/html": [
       "<div>\n",
       "<style scoped>\n",
       "    .dataframe tbody tr th:only-of-type {\n",
       "        vertical-align: middle;\n",
       "    }\n",
       "\n",
       "    .dataframe tbody tr th {\n",
       "        vertical-align: top;\n",
       "    }\n",
       "\n",
       "    .dataframe thead th {\n",
       "        text-align: right;\n",
       "    }\n",
       "</style>\n",
       "<table border=\"1\" class=\"dataframe\">\n",
       "  <thead>\n",
       "    <tr style=\"text-align: right;\">\n",
       "      <th></th>\n",
       "      <th>City</th>\n",
       "      <th>City_Address</th>\n",
       "      <th>Meetup</th>\n",
       "      <th>Avg Rent - Office</th>\n",
       "      <th>Avg Rent - Industrial</th>\n",
       "      <th>Avg Rent - Retail</th>\n",
       "      <th>Private1</th>\n",
       "      <th>Private1_Address</th>\n",
       "      <th>Private2</th>\n",
       "      <th>Private2_Address</th>\n",
       "    </tr>\n",
       "  </thead>\n",
       "  <tbody>\n",
       "    <tr>\n",
       "      <th>0</th>\n",
       "      <td>Aliso Viejo</td>\n",
       "      <td>No</td>\n",
       "      <td>No</td>\n",
       "      <td>No</td>\n",
       "      <td>No</td>\n",
       "      <td>No</td>\n",
       "      <td>Elite Soccer League</td>\n",
       "      <td>26895 Aliso Creek Rd b249, Aliso Viejo, CA 92656</td>\n",
       "      <td>No</td>\n",
       "      <td>No</td>\n",
       "    </tr>\n",
       "    <tr>\n",
       "      <th>1</th>\n",
       "      <td>Anaheim</td>\n",
       "      <td>2271 W.Crescent Avenue, Anaheim, CA 92801</td>\n",
       "      <td>No</td>\n",
       "      <td>$20.55</td>\n",
       "      <td>$11.91</td>\n",
       "      <td>$21.82</td>\n",
       "      <td>PLA Sports</td>\n",
       "      <td>627 S. HARBOR BLVD ANAHEIM CA 92805</td>\n",
       "      <td>No</td>\n",
       "      <td>No</td>\n",
       "    </tr>\n",
       "  </tbody>\n",
       "</table>\n",
       "</div>"
      ],
      "text/plain": [
       "          City                               City_Address Meetup  \\\n",
       "0  Aliso Viejo                                         No     No   \n",
       "1      Anaheim  2271 W.Crescent Avenue, Anaheim, CA 92801     No   \n",
       "\n",
       "  Avg Rent - Office Avg Rent - Industrial Avg Rent - Retail  \\\n",
       "0                No                    No                No   \n",
       "1           $20.55                $11.91            $21.82    \n",
       "\n",
       "              Private1                                  Private1_Address  \\\n",
       "0  Elite Soccer League  26895 Aliso Creek Rd b249, Aliso Viejo, CA 92656   \n",
       "1           PLA Sports               627 S. HARBOR BLVD ANAHEIM CA 92805   \n",
       "\n",
       "  Private2 Private2_Address  \n",
       "0       No               No  \n",
       "1       No               No  "
      ]
     },
     "execution_count": 10,
     "metadata": {},
     "output_type": "execute_result"
    }
   ],
   "source": [
    "leagues_df.head(2)"
   ]
  },
  {
   "cell_type": "markdown",
   "metadata": {},
   "source": [
    "---"
   ]
  },
  {
   "cell_type": "markdown",
   "metadata": {},
   "source": [
    "Converting Rent Cols to Floats:"
   ]
  },
  {
   "cell_type": "code",
   "execution_count": 11,
   "metadata": {},
   "outputs": [],
   "source": [
    "# Since I'm removing the $ via indexing, I replaced 'No' w/a 2 digit number (in string format) so that removing the first digit would result in '0'\n",
    "rent_cols = ['Avg Rent - Office', 'Avg Rent - Industrial', 'Avg Rent - Retail']\n",
    "\n",
    "for col in rent_cols:\n",
    "    leagues_df[col] = leagues_df[col].replace('No', '10').apply(lambda x:x[1:]).astype(\"float\")  "
   ]
  },
  {
   "cell_type": "code",
   "execution_count": 12,
   "metadata": {},
   "outputs": [
    {
     "data": {
      "text/html": [
       "<div>\n",
       "<style scoped>\n",
       "    .dataframe tbody tr th:only-of-type {\n",
       "        vertical-align: middle;\n",
       "    }\n",
       "\n",
       "    .dataframe tbody tr th {\n",
       "        vertical-align: top;\n",
       "    }\n",
       "\n",
       "    .dataframe thead th {\n",
       "        text-align: right;\n",
       "    }\n",
       "</style>\n",
       "<table border=\"1\" class=\"dataframe\">\n",
       "  <thead>\n",
       "    <tr style=\"text-align: right;\">\n",
       "      <th></th>\n",
       "      <th>City</th>\n",
       "      <th>City_Address</th>\n",
       "      <th>Meetup</th>\n",
       "      <th>Avg Rent - Office</th>\n",
       "      <th>Avg Rent - Industrial</th>\n",
       "      <th>Avg Rent - Retail</th>\n",
       "      <th>Private1</th>\n",
       "      <th>Private1_Address</th>\n",
       "      <th>Private2</th>\n",
       "      <th>Private2_Address</th>\n",
       "    </tr>\n",
       "  </thead>\n",
       "  <tbody>\n",
       "    <tr>\n",
       "      <th>0</th>\n",
       "      <td>Aliso Viejo</td>\n",
       "      <td>No</td>\n",
       "      <td>No</td>\n",
       "      <td>0.00</td>\n",
       "      <td>0.00</td>\n",
       "      <td>0.00</td>\n",
       "      <td>Elite Soccer League</td>\n",
       "      <td>26895 Aliso Creek Rd b249, Aliso Viejo, CA 92656</td>\n",
       "      <td>No</td>\n",
       "      <td>No</td>\n",
       "    </tr>\n",
       "    <tr>\n",
       "      <th>1</th>\n",
       "      <td>Anaheim</td>\n",
       "      <td>2271 W.Crescent Avenue, Anaheim, CA 92801</td>\n",
       "      <td>No</td>\n",
       "      <td>20.55</td>\n",
       "      <td>11.91</td>\n",
       "      <td>21.82</td>\n",
       "      <td>PLA Sports</td>\n",
       "      <td>627 S. HARBOR BLVD ANAHEIM CA 92805</td>\n",
       "      <td>No</td>\n",
       "      <td>No</td>\n",
       "    </tr>\n",
       "  </tbody>\n",
       "</table>\n",
       "</div>"
      ],
      "text/plain": [
       "          City                               City_Address Meetup  \\\n",
       "0  Aliso Viejo                                         No     No   \n",
       "1      Anaheim  2271 W.Crescent Avenue, Anaheim, CA 92801     No   \n",
       "\n",
       "   Avg Rent - Office  Avg Rent - Industrial  Avg Rent - Retail  \\\n",
       "0               0.00                   0.00               0.00   \n",
       "1              20.55                  11.91              21.82   \n",
       "\n",
       "              Private1                                  Private1_Address  \\\n",
       "0  Elite Soccer League  26895 Aliso Creek Rd b249, Aliso Viejo, CA 92656   \n",
       "1           PLA Sports               627 S. HARBOR BLVD ANAHEIM CA 92805   \n",
       "\n",
       "  Private2 Private2_Address  \n",
       "0       No               No  \n",
       "1       No               No  "
      ]
     },
     "execution_count": 12,
     "metadata": {},
     "output_type": "execute_result"
    }
   ],
   "source": [
    "leagues_df.head(2)"
   ]
  },
  {
   "cell_type": "markdown",
   "metadata": {},
   "source": [
    "---"
   ]
  },
  {
   "cell_type": "markdown",
   "metadata": {},
   "source": [
    "Adding Activity Column:"
   ]
  },
  {
   "cell_type": "code",
   "execution_count": 13,
   "metadata": {},
   "outputs": [],
   "source": [
    "cities = []\n",
    "activity_levels = []\n",
    "\n",
    "for i, row in leagues_df.iterrows():\n",
    "    value = 0\n",
    "    if row.City_Address != 'No':\n",
    "        value = 2\n",
    "    if row.Meetup != 'No':\n",
    "        value += 1\n",
    "    cities.append(row.City)\n",
    "    activity_levels.append(value)"
   ]
  },
  {
   "cell_type": "code",
   "execution_count": 14,
   "metadata": {},
   "outputs": [],
   "source": [
    "leagues_df['Soccer_Activity'] = activity_levels"
   ]
  },
  {
   "cell_type": "code",
   "execution_count": 15,
   "metadata": {},
   "outputs": [
    {
     "data": {
      "text/html": [
       "<div>\n",
       "<style scoped>\n",
       "    .dataframe tbody tr th:only-of-type {\n",
       "        vertical-align: middle;\n",
       "    }\n",
       "\n",
       "    .dataframe tbody tr th {\n",
       "        vertical-align: top;\n",
       "    }\n",
       "\n",
       "    .dataframe thead th {\n",
       "        text-align: right;\n",
       "    }\n",
       "</style>\n",
       "<table border=\"1\" class=\"dataframe\">\n",
       "  <thead>\n",
       "    <tr style=\"text-align: right;\">\n",
       "      <th></th>\n",
       "      <th>City</th>\n",
       "      <th>City_Address</th>\n",
       "      <th>Meetup</th>\n",
       "      <th>Avg Rent - Office</th>\n",
       "      <th>Avg Rent - Industrial</th>\n",
       "      <th>Avg Rent - Retail</th>\n",
       "      <th>Private1</th>\n",
       "      <th>Private1_Address</th>\n",
       "      <th>Private2</th>\n",
       "      <th>Private2_Address</th>\n",
       "      <th>Soccer_Activity</th>\n",
       "    </tr>\n",
       "  </thead>\n",
       "  <tbody>\n",
       "    <tr>\n",
       "      <th>0</th>\n",
       "      <td>Aliso Viejo</td>\n",
       "      <td>No</td>\n",
       "      <td>No</td>\n",
       "      <td>0.0</td>\n",
       "      <td>0.0</td>\n",
       "      <td>0.0</td>\n",
       "      <td>Elite Soccer League</td>\n",
       "      <td>26895 Aliso Creek Rd b249, Aliso Viejo, CA 92656</td>\n",
       "      <td>No</td>\n",
       "      <td>No</td>\n",
       "      <td>0</td>\n",
       "    </tr>\n",
       "  </tbody>\n",
       "</table>\n",
       "</div>"
      ],
      "text/plain": [
       "          City City_Address Meetup  Avg Rent - Office  Avg Rent - Industrial  \\\n",
       "0  Aliso Viejo           No     No                0.0                    0.0   \n",
       "\n",
       "   Avg Rent - Retail             Private1  \\\n",
       "0                0.0  Elite Soccer League   \n",
       "\n",
       "                                   Private1_Address Private2 Private2_Address  \\\n",
       "0  26895 Aliso Creek Rd b249, Aliso Viejo, CA 92656       No               No   \n",
       "\n",
       "   Soccer_Activity  \n",
       "0                0  "
      ]
     },
     "execution_count": 15,
     "metadata": {},
     "output_type": "execute_result"
    }
   ],
   "source": [
    "leagues_df.head(1)"
   ]
  },
  {
   "cell_type": "markdown",
   "metadata": {},
   "source": [
    "---"
   ]
  },
  {
   "cell_type": "markdown",
   "metadata": {},
   "source": [
    "#### Adding Lat/Lon Coordinates of Private Leagues:"
   ]
  },
  {
   "cell_type": "code",
   "execution_count": 16,
   "metadata": {},
   "outputs": [],
   "source": [
    "API_KEY = '(HIDDEN)'"
   ]
  },
  {
   "cell_type": "code",
   "execution_count": 17,
   "metadata": {},
   "outputs": [],
   "source": [
    "googmap = googlemaps.Client(key=API_KEY)"
   ]
  },
  {
   "cell_type": "code",
   "execution_count": 18,
   "metadata": {},
   "outputs": [],
   "source": [
    "private1 = leagues_df[['City', 'Private1', 'Private1_Address']][leagues_df['Private1_Address'] != 'No']\n",
    "private2 = leagues_df[['City', 'Private2', 'Private2_Address']][leagues_df['Private2_Address'] != 'No']"
   ]
  },
  {
   "cell_type": "code",
   "execution_count": 19,
   "metadata": {},
   "outputs": [],
   "source": [
    "dfs = [private1, private2]"
   ]
  },
  {
   "cell_type": "code",
   "execution_count": 21,
   "metadata": {},
   "outputs": [],
   "source": [
    "types = ['Private1', 'Private2']\n",
    "cities = []\n",
    "names = []\n",
    "lats = []\n",
    "lons = []\n",
    "counter = 0\n",
    "\n",
    "for df in dfs:\n",
    "    for i, row in df.iterrows():\n",
    "        cities.append(row.City)\n",
    "        names.append(row[types[counter]])\n",
    "        address = types[counter] + '_Address'\n",
    "        geocode = googmap.geocode(row[address])\n",
    "        \n",
    "        lats.append(float(geocode[0]['geometry']['location']['lat']))\n",
    "        lons.append(float(geocode[0]['geometry']['location']['lng']))\n",
    "    counter += 1"
   ]
  },
  {
   "cell_type": "code",
   "execution_count": 22,
   "metadata": {},
   "outputs": [],
   "source": [
    "private_leagues = pd.DataFrame({'City':cities,'Name':names, 'Lat':lats, 'Lon':lons})"
   ]
  },
  {
   "cell_type": "code",
   "execution_count": 23,
   "metadata": {},
   "outputs": [
    {
     "data": {
      "text/html": [
       "<div>\n",
       "<style scoped>\n",
       "    .dataframe tbody tr th:only-of-type {\n",
       "        vertical-align: middle;\n",
       "    }\n",
       "\n",
       "    .dataframe tbody tr th {\n",
       "        vertical-align: top;\n",
       "    }\n",
       "\n",
       "    .dataframe thead th {\n",
       "        text-align: right;\n",
       "    }\n",
       "</style>\n",
       "<table border=\"1\" class=\"dataframe\">\n",
       "  <thead>\n",
       "    <tr style=\"text-align: right;\">\n",
       "      <th></th>\n",
       "      <th>City</th>\n",
       "      <th>Name</th>\n",
       "      <th>Lat</th>\n",
       "      <th>Lon</th>\n",
       "    </tr>\n",
       "  </thead>\n",
       "  <tbody>\n",
       "    <tr>\n",
       "      <th>0</th>\n",
       "      <td>Aliso Viejo</td>\n",
       "      <td>Elite Soccer League</td>\n",
       "      <td>33.571661</td>\n",
       "      <td>-117.725517</td>\n",
       "    </tr>\n",
       "    <tr>\n",
       "      <th>1</th>\n",
       "      <td>Anaheim</td>\n",
       "      <td>PLA Sports</td>\n",
       "      <td>33.826502</td>\n",
       "      <td>-117.917325</td>\n",
       "    </tr>\n",
       "    <tr>\n",
       "      <th>2</th>\n",
       "      <td>Brea</td>\n",
       "      <td>AC Brea</td>\n",
       "      <td>33.919624</td>\n",
       "      <td>-117.850832</td>\n",
       "    </tr>\n",
       "    <tr>\n",
       "      <th>3</th>\n",
       "      <td>Costa Mesa</td>\n",
       "      <td>Soccer 6</td>\n",
       "      <td>33.675877</td>\n",
       "      <td>-117.877196</td>\n",
       "    </tr>\n",
       "    <tr>\n",
       "      <th>4</th>\n",
       "      <td>Garden Grove</td>\n",
       "      <td>Futsal Picante</td>\n",
       "      <td>33.775555</td>\n",
       "      <td>-118.010009</td>\n",
       "    </tr>\n",
       "  </tbody>\n",
       "</table>\n",
       "</div>"
      ],
      "text/plain": [
       "           City                 Name        Lat         Lon\n",
       "0   Aliso Viejo  Elite Soccer League  33.571661 -117.725517\n",
       "1       Anaheim           PLA Sports  33.826502 -117.917325\n",
       "2          Brea              AC Brea  33.919624 -117.850832\n",
       "3    Costa Mesa             Soccer 6  33.675877 -117.877196\n",
       "4  Garden Grove       Futsal Picante  33.775555 -118.010009"
      ]
     },
     "execution_count": 23,
     "metadata": {},
     "output_type": "execute_result"
    }
   ],
   "source": [
    "private_leagues.head()"
   ]
  },
  {
   "cell_type": "code",
   "execution_count": 24,
   "metadata": {},
   "outputs": [],
   "source": [
    "private_leagues.to_csv('private_leagues.csv', index=False)"
   ]
  },
  {
   "cell_type": "markdown",
   "metadata": {},
   "source": [
    "*This file will be used to plot private league locations as points on a map"
   ]
  },
  {
   "cell_type": "markdown",
   "metadata": {},
   "source": [
    "---"
   ]
  },
  {
   "cell_type": "code",
   "execution_count": 25,
   "metadata": {},
   "outputs": [],
   "source": [
    "rent_and_activity_data = leagues_df[['City', 'Avg Rent - Office', 'Avg Rent - Industrial', 'Avg Rent - Retail', 'Soccer_Activity']]"
   ]
  },
  {
   "cell_type": "code",
   "execution_count": 26,
   "metadata": {},
   "outputs": [
    {
     "data": {
      "text/html": [
       "<div>\n",
       "<style scoped>\n",
       "    .dataframe tbody tr th:only-of-type {\n",
       "        vertical-align: middle;\n",
       "    }\n",
       "\n",
       "    .dataframe tbody tr th {\n",
       "        vertical-align: top;\n",
       "    }\n",
       "\n",
       "    .dataframe thead th {\n",
       "        text-align: right;\n",
       "    }\n",
       "</style>\n",
       "<table border=\"1\" class=\"dataframe\">\n",
       "  <thead>\n",
       "    <tr style=\"text-align: right;\">\n",
       "      <th></th>\n",
       "      <th>City</th>\n",
       "      <th>Avg Rent - Office</th>\n",
       "      <th>Avg Rent - Industrial</th>\n",
       "      <th>Avg Rent - Retail</th>\n",
       "      <th>Soccer_Activity</th>\n",
       "    </tr>\n",
       "  </thead>\n",
       "  <tbody>\n",
       "    <tr>\n",
       "      <th>0</th>\n",
       "      <td>Aliso Viejo</td>\n",
       "      <td>0.00</td>\n",
       "      <td>0.00</td>\n",
       "      <td>0.00</td>\n",
       "      <td>0</td>\n",
       "    </tr>\n",
       "    <tr>\n",
       "      <th>1</th>\n",
       "      <td>Anaheim</td>\n",
       "      <td>20.55</td>\n",
       "      <td>11.91</td>\n",
       "      <td>21.82</td>\n",
       "      <td>2</td>\n",
       "    </tr>\n",
       "    <tr>\n",
       "      <th>2</th>\n",
       "      <td>Brea</td>\n",
       "      <td>22.87</td>\n",
       "      <td>9.59</td>\n",
       "      <td>0.00</td>\n",
       "      <td>2</td>\n",
       "    </tr>\n",
       "    <tr>\n",
       "      <th>3</th>\n",
       "      <td>Buena Park</td>\n",
       "      <td>0.00</td>\n",
       "      <td>0.00</td>\n",
       "      <td>0.00</td>\n",
       "      <td>0</td>\n",
       "    </tr>\n",
       "    <tr>\n",
       "      <th>4</th>\n",
       "      <td>Costa Mesa</td>\n",
       "      <td>23.33</td>\n",
       "      <td>0.00</td>\n",
       "      <td>27.01</td>\n",
       "      <td>1</td>\n",
       "    </tr>\n",
       "  </tbody>\n",
       "</table>\n",
       "</div>"
      ],
      "text/plain": [
       "          City  Avg Rent - Office  Avg Rent - Industrial  Avg Rent - Retail  \\\n",
       "0  Aliso Viejo               0.00                   0.00               0.00   \n",
       "1      Anaheim              20.55                  11.91              21.82   \n",
       "2         Brea              22.87                   9.59               0.00   \n",
       "3   Buena Park               0.00                   0.00               0.00   \n",
       "4   Costa Mesa              23.33                   0.00              27.01   \n",
       "\n",
       "   Soccer_Activity  \n",
       "0                0  \n",
       "1                2  \n",
       "2                2  \n",
       "3                0  \n",
       "4                1  "
      ]
     },
     "execution_count": 26,
     "metadata": {},
     "output_type": "execute_result"
    }
   ],
   "source": [
    "rent_and_activity_data.head()"
   ]
  },
  {
   "cell_type": "code",
   "execution_count": 27,
   "metadata": {},
   "outputs": [
    {
     "data": {
      "text/plain": [
       "113"
      ]
     },
     "execution_count": 27,
     "metadata": {},
     "output_type": "execute_result"
    }
   ],
   "source": [
    "len(rent_and_activity_data)"
   ]
  },
  {
   "cell_type": "code",
   "execution_count": 28,
   "metadata": {},
   "outputs": [],
   "source": [
    "rent_and_activity_data.to_csv('rent_and_activity_data.csv', index=False)"
   ]
  },
  {
   "cell_type": "markdown",
   "metadata": {},
   "source": [
    "*This file will be used in subsequent notebooks to specify which cities to extract census data on"
   ]
  },
  {
   "cell_type": "markdown",
   "metadata": {},
   "source": [
    "---"
   ]
  }
 ],
 "metadata": {
  "kernelspec": {
   "display_name": "Python 3",
   "language": "python",
   "name": "python3"
  },
  "language_info": {
   "codemirror_mode": {
    "name": "ipython",
    "version": 3
   },
   "file_extension": ".py",
   "mimetype": "text/x-python",
   "name": "python",
   "nbconvert_exporter": "python",
   "pygments_lexer": "ipython3",
   "version": "3.7.3"
  }
 },
 "nbformat": 4,
 "nbformat_minor": 4
}
