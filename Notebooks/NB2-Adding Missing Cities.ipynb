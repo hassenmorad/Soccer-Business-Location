{
 "cells": [
  {
   "cell_type": "markdown",
   "metadata": {},
   "source": [
    "#### Merging Rent & Soccer Activity with City Boundary Data"
   ]
  },
  {
   "cell_type": "markdown",
   "metadata": {},
   "source": [
    "*Adding rows to rent_and_activity_data (from prev. notebook) for missing So. Cal cities- contained in the city boundaries shapefile, below"
   ]
  },
  {
   "cell_type": "markdown",
   "metadata": {},
   "source": [
    "---"
   ]
  },
  {
   "cell_type": "code",
   "execution_count": 1,
   "metadata": {},
   "outputs": [],
   "source": [
    "import pandas as pd\n",
    "import numpy as np\n",
    "import geopandas as gpd"
   ]
  },
  {
   "cell_type": "markdown",
   "metadata": {},
   "source": [
    "---"
   ]
  },
  {
   "cell_type": "code",
   "execution_count": 2,
   "metadata": {},
   "outputs": [],
   "source": [
    "rent_and_activity_df = pd.read_csv('rent_and_activity_data.csv')"
   ]
  },
  {
   "cell_type": "code",
   "execution_count": 3,
   "metadata": {},
   "outputs": [
    {
     "data": {
      "text/html": [
       "<div>\n",
       "<style scoped>\n",
       "    .dataframe tbody tr th:only-of-type {\n",
       "        vertical-align: middle;\n",
       "    }\n",
       "\n",
       "    .dataframe tbody tr th {\n",
       "        vertical-align: top;\n",
       "    }\n",
       "\n",
       "    .dataframe thead th {\n",
       "        text-align: right;\n",
       "    }\n",
       "</style>\n",
       "<table border=\"1\" class=\"dataframe\">\n",
       "  <thead>\n",
       "    <tr style=\"text-align: right;\">\n",
       "      <th></th>\n",
       "      <th>City</th>\n",
       "      <th>Avg Rent - Office</th>\n",
       "      <th>Avg Rent - Industrial</th>\n",
       "      <th>Avg Rent - Retail</th>\n",
       "      <th>Soccer_Activity</th>\n",
       "    </tr>\n",
       "  </thead>\n",
       "  <tbody>\n",
       "    <tr>\n",
       "      <th>0</th>\n",
       "      <td>Aliso Viejo</td>\n",
       "      <td>0.00</td>\n",
       "      <td>0.00</td>\n",
       "      <td>0.00</td>\n",
       "      <td>0</td>\n",
       "    </tr>\n",
       "    <tr>\n",
       "      <th>1</th>\n",
       "      <td>Anaheim</td>\n",
       "      <td>20.55</td>\n",
       "      <td>11.91</td>\n",
       "      <td>21.82</td>\n",
       "      <td>2</td>\n",
       "    </tr>\n",
       "  </tbody>\n",
       "</table>\n",
       "</div>"
      ],
      "text/plain": [
       "          City  Avg Rent - Office  Avg Rent - Industrial  Avg Rent - Retail  \\\n",
       "0  Aliso Viejo               0.00                   0.00               0.00   \n",
       "1      Anaheim              20.55                  11.91              21.82   \n",
       "\n",
       "   Soccer_Activity  \n",
       "0                0  \n",
       "1                2  "
      ]
     },
     "execution_count": 3,
     "metadata": {},
     "output_type": "execute_result"
    }
   ],
   "source": [
    "rent_and_activity_df.head(2)"
   ]
  },
  {
   "cell_type": "code",
   "execution_count": 4,
   "metadata": {},
   "outputs": [
    {
     "data": {
      "text/plain": [
       "113"
      ]
     },
     "execution_count": 4,
     "metadata": {},
     "output_type": "execute_result"
    }
   ],
   "source": [
    "rent_and_activity_df.shape[0]"
   ]
  },
  {
   "cell_type": "markdown",
   "metadata": {},
   "source": [
    "---"
   ]
  },
  {
   "cell_type": "code",
   "execution_count": 5,
   "metadata": {},
   "outputs": [],
   "source": [
    "# Source: http://gisdata-scag.opendata.arcgis.com/datasets/27b134459761486991f0b72f8a9a67c5_0\n",
    "cities_shp = 'City_Boundaries_SCAG_Region.shp'"
   ]
  },
  {
   "cell_type": "code",
   "execution_count": 6,
   "metadata": {},
   "outputs": [],
   "source": [
    "city_boundaries_geodf = gpd.read_file(cities_shp)"
   ]
  },
  {
   "cell_type": "code",
   "execution_count": 7,
   "metadata": {},
   "outputs": [
    {
     "data": {
      "text/plain": [
       "197"
      ]
     },
     "execution_count": 7,
     "metadata": {},
     "output_type": "execute_result"
    }
   ],
   "source": [
    "city_boundaries_geodf.shape[0]"
   ]
  },
  {
   "cell_type": "code",
   "execution_count": 8,
   "metadata": {},
   "outputs": [
    {
     "data": {
      "text/html": [
       "<div>\n",
       "<style scoped>\n",
       "    .dataframe tbody tr th:only-of-type {\n",
       "        vertical-align: middle;\n",
       "    }\n",
       "\n",
       "    .dataframe tbody tr th {\n",
       "        vertical-align: top;\n",
       "    }\n",
       "\n",
       "    .dataframe thead th {\n",
       "        text-align: right;\n",
       "    }\n",
       "</style>\n",
       "<table border=\"1\" class=\"dataframe\">\n",
       "  <thead>\n",
       "    <tr style=\"text-align: right;\">\n",
       "      <th></th>\n",
       "      <th>OBJECTID</th>\n",
       "      <th>CITY</th>\n",
       "      <th>CITY_ID</th>\n",
       "      <th>PERIMETER</th>\n",
       "      <th>ACRES</th>\n",
       "      <th>COUNTY</th>\n",
       "      <th>COUNTY_ID</th>\n",
       "      <th>YEAR</th>\n",
       "      <th>ANNEX_DATE</th>\n",
       "      <th>ANNEX_NOTE</th>\n",
       "      <th>Shapearea</th>\n",
       "      <th>Shapelen</th>\n",
       "      <th>geometry</th>\n",
       "    </tr>\n",
       "  </thead>\n",
       "  <tbody>\n",
       "    <tr>\n",
       "      <th>0</th>\n",
       "      <td>192</td>\n",
       "      <td>Big Bear Lake</td>\n",
       "      <td>6434</td>\n",
       "      <td>46945.672906</td>\n",
       "      <td>4116.109802</td>\n",
       "      <td>San Bernardino</td>\n",
       "      <td>71</td>\n",
       "      <td>2016</td>\n",
       "      <td>2015-10-08T00:00:00.000Z</td>\n",
       "      <td>Reorganization</td>\n",
       "      <td>1.665731e+07</td>\n",
       "      <td>46945.673047</td>\n",
       "      <td>(POLYGON ((-116.8661844092499 34.2647571598981...</td>\n",
       "    </tr>\n",
       "  </tbody>\n",
       "</table>\n",
       "</div>"
      ],
      "text/plain": [
       "   OBJECTID           CITY CITY_ID     PERIMETER        ACRES          COUNTY  \\\n",
       "0       192  Big Bear Lake    6434  46945.672906  4116.109802  San Bernardino   \n",
       "\n",
       "   COUNTY_ID  YEAR                ANNEX_DATE      ANNEX_NOTE     Shapearea  \\\n",
       "0         71  2016  2015-10-08T00:00:00.000Z  Reorganization  1.665731e+07   \n",
       "\n",
       "       Shapelen                                           geometry  \n",
       "0  46945.673047  (POLYGON ((-116.8661844092499 34.2647571598981...  "
      ]
     },
     "execution_count": 8,
     "metadata": {},
     "output_type": "execute_result"
    }
   ],
   "source": [
    "city_boundaries_geodf.head(1)"
   ]
  },
  {
   "cell_type": "markdown",
   "metadata": {},
   "source": [
    "---"
   ]
  },
  {
   "cell_type": "markdown",
   "metadata": {},
   "source": [
    "##### Checking & Dealing w/ Missing Cities:\n",
    "(Cities not found in city_boundaries)"
   ]
  },
  {
   "cell_type": "code",
   "execution_count": 9,
   "metadata": {},
   "outputs": [
    {
     "name": "stdout",
     "output_type": "stream",
     "text": [
      "Palos Verdes\n",
      "Woodland Hills\n"
     ]
    }
   ],
   "source": [
    "for city in rent_and_activity_df.City:\n",
    "    if city not in city_boundaries_geodf.CITY.values:\n",
    "        print(city)"
   ]
  },
  {
   "cell_type": "markdown",
   "metadata": {},
   "source": [
    "---"
   ]
  },
  {
   "cell_type": "markdown",
   "metadata": {},
   "source": [
    "- Check if other variations of PV or WH exist- if so, include them\n",
    "- Remove 'Palos Verdes' & 'Woodland Hills' after adding variations"
   ]
  },
  {
   "cell_type": "markdown",
   "metadata": {},
   "source": [
    "---"
   ]
  },
  {
   "cell_type": "code",
   "execution_count": 10,
   "metadata": {},
   "outputs": [
    {
     "data": {
      "text/html": [
       "<div>\n",
       "<style scoped>\n",
       "    .dataframe tbody tr th:only-of-type {\n",
       "        vertical-align: middle;\n",
       "    }\n",
       "\n",
       "    .dataframe tbody tr th {\n",
       "        vertical-align: top;\n",
       "    }\n",
       "\n",
       "    .dataframe thead th {\n",
       "        text-align: right;\n",
       "    }\n",
       "</style>\n",
       "<table border=\"1\" class=\"dataframe\">\n",
       "  <thead>\n",
       "    <tr style=\"text-align: right;\">\n",
       "      <th></th>\n",
       "      <th>OBJECTID</th>\n",
       "      <th>CITY</th>\n",
       "      <th>CITY_ID</th>\n",
       "      <th>PERIMETER</th>\n",
       "      <th>ACRES</th>\n",
       "      <th>COUNTY</th>\n",
       "      <th>COUNTY_ID</th>\n",
       "      <th>YEAR</th>\n",
       "      <th>ANNEX_DATE</th>\n",
       "      <th>ANNEX_NOTE</th>\n",
       "      <th>Shapearea</th>\n",
       "      <th>Shapelen</th>\n",
       "      <th>geometry</th>\n",
       "    </tr>\n",
       "  </thead>\n",
       "  <tbody>\n",
       "    <tr>\n",
       "      <th>51</th>\n",
       "      <td>243</td>\n",
       "      <td>Palos Verdes Estates</td>\n",
       "      <td>55380</td>\n",
       "      <td>21674.807023</td>\n",
       "      <td>3069.210751</td>\n",
       "      <td>Los Angeles</td>\n",
       "      <td>37</td>\n",
       "      <td>2016</td>\n",
       "      <td>1964-11-09T00:00:00.000Z</td>\n",
       "      <td>Annexation</td>\n",
       "      <td>1.242066e+07</td>\n",
       "      <td>21674.806933</td>\n",
       "      <td>POLYGON ((-118.3617095860261 33.80417735318261...</td>\n",
       "    </tr>\n",
       "    <tr>\n",
       "      <th>63</th>\n",
       "      <td>255</td>\n",
       "      <td>Rancho Palos Verdes</td>\n",
       "      <td>59514</td>\n",
       "      <td>62100.312364</td>\n",
       "      <td>8656.425459</td>\n",
       "      <td>Los Angeles</td>\n",
       "      <td>37</td>\n",
       "      <td>2016</td>\n",
       "      <td>2016-04-14T00:00:00.000Z</td>\n",
       "      <td>None</td>\n",
       "      <td>3.503131e+07</td>\n",
       "      <td>62100.313702</td>\n",
       "      <td>POLYGON ((-118.3775786458657 33.79477814760457...</td>\n",
       "    </tr>\n",
       "  </tbody>\n",
       "</table>\n",
       "</div>"
      ],
      "text/plain": [
       "    OBJECTID                  CITY CITY_ID     PERIMETER        ACRES  \\\n",
       "51       243  Palos Verdes Estates   55380  21674.807023  3069.210751   \n",
       "63       255   Rancho Palos Verdes   59514  62100.312364  8656.425459   \n",
       "\n",
       "         COUNTY  COUNTY_ID  YEAR                ANNEX_DATE  ANNEX_NOTE  \\\n",
       "51  Los Angeles         37  2016  1964-11-09T00:00:00.000Z  Annexation   \n",
       "63  Los Angeles         37  2016  2016-04-14T00:00:00.000Z        None   \n",
       "\n",
       "       Shapearea      Shapelen  \\\n",
       "51  1.242066e+07  21674.806933   \n",
       "63  3.503131e+07  62100.313702   \n",
       "\n",
       "                                             geometry  \n",
       "51  POLYGON ((-118.3617095860261 33.80417735318261...  \n",
       "63  POLYGON ((-118.3775786458657 33.79477814760457...  "
      ]
     },
     "execution_count": 10,
     "metadata": {},
     "output_type": "execute_result"
    }
   ],
   "source": [
    "city_boundaries_geodf[city_boundaries_geodf.CITY.str.contains('Palos')]"
   ]
  },
  {
   "cell_type": "code",
   "execution_count": 11,
   "metadata": {},
   "outputs": [
    {
     "data": {
      "text/plain": [
       "array([], shape=(0, 13), dtype=object)"
      ]
     },
     "execution_count": 11,
     "metadata": {},
     "output_type": "execute_result"
    }
   ],
   "source": [
    "city_boundaries_geodf[city_boundaries_geodf.CITY.str.contains('Woodland')].values"
   ]
  },
  {
   "cell_type": "markdown",
   "metadata": {},
   "source": [
    "---"
   ]
  },
  {
   "cell_type": "markdown",
   "metadata": {},
   "source": [
    "Replacing name of 'Palos Verdes' & Removing 'Woodland Hills'"
   ]
  },
  {
   "cell_type": "code",
   "execution_count": 12,
   "metadata": {},
   "outputs": [
    {
     "data": {
      "text/html": [
       "<div>\n",
       "<style scoped>\n",
       "    .dataframe tbody tr th:only-of-type {\n",
       "        vertical-align: middle;\n",
       "    }\n",
       "\n",
       "    .dataframe tbody tr th {\n",
       "        vertical-align: top;\n",
       "    }\n",
       "\n",
       "    .dataframe thead th {\n",
       "        text-align: right;\n",
       "    }\n",
       "</style>\n",
       "<table border=\"1\" class=\"dataframe\">\n",
       "  <thead>\n",
       "    <tr style=\"text-align: right;\">\n",
       "      <th></th>\n",
       "      <th>City</th>\n",
       "      <th>Avg Rent - Office</th>\n",
       "      <th>Avg Rent - Industrial</th>\n",
       "      <th>Avg Rent - Retail</th>\n",
       "      <th>Soccer_Activity</th>\n",
       "    </tr>\n",
       "  </thead>\n",
       "  <tbody>\n",
       "    <tr>\n",
       "      <th>86</th>\n",
       "      <td>Palos Verdes</td>\n",
       "      <td>0.0</td>\n",
       "      <td>0.0</td>\n",
       "      <td>0.0</td>\n",
       "      <td>0</td>\n",
       "    </tr>\n",
       "  </tbody>\n",
       "</table>\n",
       "</div>"
      ],
      "text/plain": [
       "            City  Avg Rent - Office  Avg Rent - Industrial  Avg Rent - Retail  \\\n",
       "86  Palos Verdes                0.0                    0.0                0.0   \n",
       "\n",
       "    Soccer_Activity  \n",
       "86                0  "
      ]
     },
     "execution_count": 12,
     "metadata": {},
     "output_type": "execute_result"
    }
   ],
   "source": [
    "rent_and_activity_df[rent_and_activity_df.City == 'Palos Verdes']"
   ]
  },
  {
   "cell_type": "code",
   "execution_count": 12,
   "metadata": {},
   "outputs": [],
   "source": [
    "rent_and_activity_df.loc[rent_and_activity_df.City == 'Palos Verdes', 'City'] = 'Palos Verdes Estates'"
   ]
  },
  {
   "cell_type": "code",
   "execution_count": 13,
   "metadata": {},
   "outputs": [
    {
     "data": {
      "text/html": [
       "<div>\n",
       "<style scoped>\n",
       "    .dataframe tbody tr th:only-of-type {\n",
       "        vertical-align: middle;\n",
       "    }\n",
       "\n",
       "    .dataframe tbody tr th {\n",
       "        vertical-align: top;\n",
       "    }\n",
       "\n",
       "    .dataframe thead th {\n",
       "        text-align: right;\n",
       "    }\n",
       "</style>\n",
       "<table border=\"1\" class=\"dataframe\">\n",
       "  <thead>\n",
       "    <tr style=\"text-align: right;\">\n",
       "      <th></th>\n",
       "      <th>City</th>\n",
       "      <th>Avg Rent - Office</th>\n",
       "      <th>Avg Rent - Industrial</th>\n",
       "      <th>Avg Rent - Retail</th>\n",
       "      <th>Soccer_Activity</th>\n",
       "    </tr>\n",
       "  </thead>\n",
       "  <tbody>\n",
       "    <tr>\n",
       "      <th>86</th>\n",
       "      <td>Palos Verdes Estates</td>\n",
       "      <td>0.0</td>\n",
       "      <td>0.0</td>\n",
       "      <td>0.0</td>\n",
       "      <td>0</td>\n",
       "    </tr>\n",
       "  </tbody>\n",
       "</table>\n",
       "</div>"
      ],
      "text/plain": [
       "                    City  Avg Rent - Office  Avg Rent - Industrial  \\\n",
       "86  Palos Verdes Estates                0.0                    0.0   \n",
       "\n",
       "    Avg Rent - Retail  Soccer_Activity  \n",
       "86                0.0                0  "
      ]
     },
     "execution_count": 13,
     "metadata": {},
     "output_type": "execute_result"
    }
   ],
   "source": [
    "rent_and_activity_df[rent_and_activity_df.City.str.contains('Palos')]"
   ]
  },
  {
   "cell_type": "code",
   "execution_count": 14,
   "metadata": {},
   "outputs": [],
   "source": [
    "rent_and_activity_df = rent_and_activity_df[rent_and_activity_df.City != 'Woodland Hills']"
   ]
  },
  {
   "cell_type": "markdown",
   "metadata": {},
   "source": [
    "---"
   ]
  },
  {
   "cell_type": "markdown",
   "metadata": {},
   "source": [
    "##### Adding Rows for Missing Cities:\n",
    "*these cities aren't the focus of the analysis but must be included in order to join the shapefile w/ additional statistical data-  each shapefile record must have a corresponding record in the joined statistical data file to successfully join them in QGIS"
   ]
  },
  {
   "cell_type": "code",
   "execution_count": 15,
   "metadata": {},
   "outputs": [],
   "source": [
    "missing = []\n",
    "for city in city_boundaries_geodf.CITY:\n",
    "    if city not in rent_and_activity_df.City.values:\n",
    "        missing.append(city)"
   ]
  },
  {
   "cell_type": "code",
   "execution_count": 16,
   "metadata": {},
   "outputs": [],
   "source": [
    "missing_cities_df = pd.DataFrame({'City':missing})"
   ]
  },
  {
   "cell_type": "code",
   "execution_count": 17,
   "metadata": {},
   "outputs": [
    {
     "data": {
      "text/plain": [
       "Index(['City', 'Avg Rent - Office', 'Avg Rent - Industrial',\n",
       "       'Avg Rent - Retail', 'Soccer_Activity'],\n",
       "      dtype='object')"
      ]
     },
     "execution_count": 17,
     "metadata": {},
     "output_type": "execute_result"
    }
   ],
   "source": [
    "rent_and_activity_df.columns"
   ]
  },
  {
   "cell_type": "markdown",
   "metadata": {},
   "source": [
    "*Assigning value of 0 for all values in rows of missing cities"
   ]
  },
  {
   "cell_type": "code",
   "execution_count": 18,
   "metadata": {},
   "outputs": [],
   "source": [
    "for col in rent_and_activity_df.columns[1:]:\n",
    "    missing_cities_df[col] = np.full(len(missing_cities_df), 0)"
   ]
  },
  {
   "cell_type": "code",
   "execution_count": 19,
   "metadata": {},
   "outputs": [
    {
     "data": {
      "text/html": [
       "<div>\n",
       "<style scoped>\n",
       "    .dataframe tbody tr th:only-of-type {\n",
       "        vertical-align: middle;\n",
       "    }\n",
       "\n",
       "    .dataframe tbody tr th {\n",
       "        vertical-align: top;\n",
       "    }\n",
       "\n",
       "    .dataframe thead th {\n",
       "        text-align: right;\n",
       "    }\n",
       "</style>\n",
       "<table border=\"1\" class=\"dataframe\">\n",
       "  <thead>\n",
       "    <tr style=\"text-align: right;\">\n",
       "      <th></th>\n",
       "      <th>City</th>\n",
       "      <th>Avg Rent - Office</th>\n",
       "      <th>Avg Rent - Industrial</th>\n",
       "      <th>Avg Rent - Retail</th>\n",
       "      <th>Soccer_Activity</th>\n",
       "    </tr>\n",
       "  </thead>\n",
       "  <tbody>\n",
       "    <tr>\n",
       "      <th>80</th>\n",
       "      <td>Unincorporated</td>\n",
       "      <td>0</td>\n",
       "      <td>0</td>\n",
       "      <td>0</td>\n",
       "      <td>0</td>\n",
       "    </tr>\n",
       "    <tr>\n",
       "      <th>81</th>\n",
       "      <td>Palm Springs</td>\n",
       "      <td>0</td>\n",
       "      <td>0</td>\n",
       "      <td>0</td>\n",
       "      <td>0</td>\n",
       "    </tr>\n",
       "    <tr>\n",
       "      <th>82</th>\n",
       "      <td>Unincorporated</td>\n",
       "      <td>0</td>\n",
       "      <td>0</td>\n",
       "      <td>0</td>\n",
       "      <td>0</td>\n",
       "    </tr>\n",
       "    <tr>\n",
       "      <th>83</th>\n",
       "      <td>Banning</td>\n",
       "      <td>0</td>\n",
       "      <td>0</td>\n",
       "      <td>0</td>\n",
       "      <td>0</td>\n",
       "    </tr>\n",
       "    <tr>\n",
       "      <th>84</th>\n",
       "      <td>Jurupa Valley</td>\n",
       "      <td>0</td>\n",
       "      <td>0</td>\n",
       "      <td>0</td>\n",
       "      <td>0</td>\n",
       "    </tr>\n",
       "  </tbody>\n",
       "</table>\n",
       "</div>"
      ],
      "text/plain": [
       "              City  Avg Rent - Office  Avg Rent - Industrial  \\\n",
       "80  Unincorporated                  0                      0   \n",
       "81    Palm Springs                  0                      0   \n",
       "82  Unincorporated                  0                      0   \n",
       "83         Banning                  0                      0   \n",
       "84   Jurupa Valley                  0                      0   \n",
       "\n",
       "    Avg Rent - Retail  Soccer_Activity  \n",
       "80                  0                0  \n",
       "81                  0                0  \n",
       "82                  0                0  \n",
       "83                  0                0  \n",
       "84                  0                0  "
      ]
     },
     "execution_count": 19,
     "metadata": {},
     "output_type": "execute_result"
    }
   ],
   "source": [
    "missing_cities_df.tail()"
   ]
  },
  {
   "cell_type": "code",
   "execution_count": 20,
   "metadata": {},
   "outputs": [],
   "source": [
    "all_cities_rent_activity = pd.concat([rent_and_activity_df, missing_cities_df]).reset_index(drop=True)"
   ]
  },
  {
   "cell_type": "code",
   "execution_count": 21,
   "metadata": {},
   "outputs": [
    {
     "data": {
      "text/html": [
       "<div>\n",
       "<style scoped>\n",
       "    .dataframe tbody tr th:only-of-type {\n",
       "        vertical-align: middle;\n",
       "    }\n",
       "\n",
       "    .dataframe tbody tr th {\n",
       "        vertical-align: top;\n",
       "    }\n",
       "\n",
       "    .dataframe thead th {\n",
       "        text-align: right;\n",
       "    }\n",
       "</style>\n",
       "<table border=\"1\" class=\"dataframe\">\n",
       "  <thead>\n",
       "    <tr style=\"text-align: right;\">\n",
       "      <th></th>\n",
       "      <th>City</th>\n",
       "      <th>Avg Rent - Office</th>\n",
       "      <th>Avg Rent - Industrial</th>\n",
       "      <th>Avg Rent - Retail</th>\n",
       "      <th>Soccer_Activity</th>\n",
       "    </tr>\n",
       "  </thead>\n",
       "  <tbody>\n",
       "    <tr>\n",
       "      <th>192</th>\n",
       "      <td>Unincorporated</td>\n",
       "      <td>0.0</td>\n",
       "      <td>0.0</td>\n",
       "      <td>0.0</td>\n",
       "      <td>0</td>\n",
       "    </tr>\n",
       "    <tr>\n",
       "      <th>193</th>\n",
       "      <td>Palm Springs</td>\n",
       "      <td>0.0</td>\n",
       "      <td>0.0</td>\n",
       "      <td>0.0</td>\n",
       "      <td>0</td>\n",
       "    </tr>\n",
       "    <tr>\n",
       "      <th>194</th>\n",
       "      <td>Unincorporated</td>\n",
       "      <td>0.0</td>\n",
       "      <td>0.0</td>\n",
       "      <td>0.0</td>\n",
       "      <td>0</td>\n",
       "    </tr>\n",
       "    <tr>\n",
       "      <th>195</th>\n",
       "      <td>Banning</td>\n",
       "      <td>0.0</td>\n",
       "      <td>0.0</td>\n",
       "      <td>0.0</td>\n",
       "      <td>0</td>\n",
       "    </tr>\n",
       "    <tr>\n",
       "      <th>196</th>\n",
       "      <td>Jurupa Valley</td>\n",
       "      <td>0.0</td>\n",
       "      <td>0.0</td>\n",
       "      <td>0.0</td>\n",
       "      <td>0</td>\n",
       "    </tr>\n",
       "  </tbody>\n",
       "</table>\n",
       "</div>"
      ],
      "text/plain": [
       "               City  Avg Rent - Office  Avg Rent - Industrial  \\\n",
       "192  Unincorporated                0.0                    0.0   \n",
       "193    Palm Springs                0.0                    0.0   \n",
       "194  Unincorporated                0.0                    0.0   \n",
       "195         Banning                0.0                    0.0   \n",
       "196   Jurupa Valley                0.0                    0.0   \n",
       "\n",
       "     Avg Rent - Retail  Soccer_Activity  \n",
       "192                0.0                0  \n",
       "193                0.0                0  \n",
       "194                0.0                0  \n",
       "195                0.0                0  \n",
       "196                0.0                0  "
      ]
     },
     "execution_count": 21,
     "metadata": {},
     "output_type": "execute_result"
    }
   ],
   "source": [
    "all_cities_rent_activity.tail()"
   ]
  },
  {
   "cell_type": "code",
   "execution_count": 22,
   "metadata": {},
   "outputs": [],
   "source": [
    "all_cities_rent_activity.to_csv('all_cities_rent_activity.csv', index=False)"
   ]
  },
  {
   "cell_type": "markdown",
   "metadata": {},
   "source": [
    "*Will add columns containing census demographic data to this df in the 5th notebook"
   ]
  },
  {
   "cell_type": "markdown",
   "metadata": {},
   "source": [
    "---"
   ]
  }
 ],
 "metadata": {
  "kernelspec": {
   "display_name": "Python 3",
   "language": "python",
   "name": "python3"
  },
  "language_info": {
   "codemirror_mode": {
    "name": "ipython",
    "version": 3
   },
   "file_extension": ".py",
   "mimetype": "text/x-python",
   "name": "python",
   "nbconvert_exporter": "python",
   "pygments_lexer": "ipython3",
   "version": "3.7.3"
  }
 },
 "nbformat": 4,
 "nbformat_minor": 4
}
